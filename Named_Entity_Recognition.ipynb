{
  "nbformat": 4,
  "nbformat_minor": 0,
  "metadata": {
    "colab": {
      "provenance": [],
      "mount_file_id": "1W6I1bSUjznybPJMj8BHhQQ7K-0AoMX_j",
      "authorship_tag": "ABX9TyPOguvCJejjx3XIgNF8htUB",
      "include_colab_link": true
    },
    "kernelspec": {
      "name": "python3",
      "display_name": "Python 3"
    },
    "language_info": {
      "name": "python"
    }
  },
  "cells": [
    {
      "cell_type": "markdown",
      "metadata": {
        "id": "view-in-github",
        "colab_type": "text"
      },
      "source": [
        "<a href=\"https://colab.research.google.com/github/shreyab375/Natural-Language-Processing/blob/main/Named_Entity_Recognition.ipynb\" target=\"_parent\"><img src=\"https://colab.research.google.com/assets/colab-badge.svg\" alt=\"Open In Colab\"/></a>"
      ]
    },
    {
      "cell_type": "code",
      "execution_count": 31,
      "metadata": {
        "colab": {
          "base_uri": "https://localhost:8080/"
        },
        "id": "r_q1NfITL5Gl",
        "outputId": "3d83901f-e3fe-4016-f640-df69384d3ab5"
      },
      "outputs": [
        {
          "output_type": "stream",
          "name": "stdout",
          "text": [
            "Requirement already satisfied: pycrf in /usr/local/lib/python3.10/dist-packages (0.0.1)\n",
            "Requirement already satisfied: sklearn-crfsuite in /usr/local/lib/python3.10/dist-packages (0.3.6)\n",
            "Requirement already satisfied: python-crfsuite>=0.8.3 in /usr/local/lib/python3.10/dist-packages (from sklearn-crfsuite) (0.9.10)\n",
            "Requirement already satisfied: six in /usr/local/lib/python3.10/dist-packages (from sklearn-crfsuite) (1.16.0)\n",
            "Requirement already satisfied: tabulate in /usr/local/lib/python3.10/dist-packages (from sklearn-crfsuite) (0.9.0)\n",
            "Requirement already satisfied: tqdm>=2.0 in /usr/local/lib/python3.10/dist-packages (from sklearn-crfsuite) (4.66.2)\n"
          ]
        }
      ],
      "source": [
        "!pip install pycrf\n",
        "!pip install sklearn-crfsuite\n",
        "import nltk\n",
        "import spacy\n",
        "import sklearn_crfsuite\n",
        "from sklearn_crfsuite import metrics\n",
        "from nltk.tokenize import word_tokenize\n",
        "model = spacy.load(\"en_core_web_sm\")\n",
        "import pandas as pd\n"
      ]
    },
    {
      "cell_type": "code",
      "source": [
        "nltk.download('punkt')"
      ],
      "metadata": {
        "colab": {
          "base_uri": "https://localhost:8080/"
        },
        "id": "H-pLfPVKTAWG",
        "outputId": "5e8f8538-e8c8-4262-804e-c492723d09e4"
      },
      "execution_count": 27,
      "outputs": [
        {
          "output_type": "stream",
          "name": "stderr",
          "text": [
            "[nltk_data] Downloading package punkt to /root/nltk_data...\n",
            "[nltk_data]   Unzipping tokenizers/punkt.zip.\n"
          ]
        },
        {
          "output_type": "execute_result",
          "data": {
            "text/plain": [
              "True"
            ]
          },
          "metadata": {},
          "execution_count": 27
        }
      ]
    },
    {
      "cell_type": "markdown",
      "source": [
        "##Data Preprocessing\n",
        "\n",
        "The dataset provided is in the form of one word per line.\n",
        "\n",
        "Suppose there are x words in a sentence, then there will be x continuous lines with one word in each line.\n",
        "Further, the two sentences are separated by empty lines. The labels for the data follow the same format."
      ],
      "metadata": {
        "id": "7VLTzSSmNYQU"
      }
    },
    {
      "cell_type": "code",
      "source": [
        " #Reading the train and test sentences and labels\n",
        "with open('train_sent', 'r') as train_sent_file:\n",
        "  train_sent = train_sent_file.readlines()\n",
        "\n",
        "with open('train_label', 'r') as train_labels_file:\n",
        "  train_labels = train_labels_file.readlines()\n",
        "\n",
        "with open('test_sent', 'r') as test_sent_file:\n",
        "  test_sent = test_sent_file.readlines()\n",
        "\n",
        "with open('test_label', 'r') as test_labels_file:\n",
        "  test_labels = test_labels_file.readlines()"
      ],
      "metadata": {
        "id": "xT_lGz5pNdal"
      },
      "execution_count": 15,
      "outputs": []
    },
    {
      "cell_type": "code",
      "source": [
        "train_sent[:5]"
      ],
      "metadata": {
        "colab": {
          "base_uri": "https://localhost:8080/"
        },
        "id": "2lL1dDqFOn_M",
        "outputId": "dcf2cea7-fd37-4164-c7c6-640fa9d0743a"
      },
      "execution_count": 17,
      "outputs": [
        {
          "output_type": "execute_result",
          "data": {
            "text/plain": [
              "['All\\n', 'live\\n', 'births\\n', '>\\n', 'or\\n']"
            ]
          },
          "metadata": {},
          "execution_count": 17
        }
      ]
    },
    {
      "cell_type": "code",
      "source": [
        "# Sanity check to see that the number of tokens and no. of corresponding labels match.\n",
        "print(\"Count of tokens in training set\\n\",\"No. of words: \",len(train_words),\"\\nNo. of labels: \",len(train_labels_by_word))\n",
        "print(\"\\n\\nCount of tokens in test set\\n\",\"No. of words: \",len(test_words),\"\\nNo. of labels: \",len(test_labels_by_word))"
      ],
      "metadata": {
        "colab": {
          "base_uri": "https://localhost:8080/"
        },
        "id": "x2yCu4nQOoED",
        "outputId": "ac3a446f-c7ec-45af-fcc8-0edc2f6815fe"
      },
      "execution_count": 18,
      "outputs": [
        {
          "output_type": "stream",
          "name": "stdout",
          "text": [
            "Count of tokens in training set\n",
            " No. of words:  48501 \n",
            "No. of labels:  48501\n",
            "\n",
            "\n",
            "Count of tokens in test set\n",
            " No. of words:  19674 \n",
            "No. of labels:  19674\n"
          ]
        }
      ]
    },
    {
      "cell_type": "code",
      "source": [
        "def convert_to_sentences(dataset):\n",
        "    sent_list = []\n",
        "    sent = \"\"\n",
        "    for entity in dataset:\n",
        "        if entity != '\\n':\n",
        "            sent = sent + entity[:-1] + \" \"       # Adding word/label to current sentence / sequence of labels\n",
        "        else:\n",
        "            sent_list.append(sent[:-1])           # Getting rid of the space added after the last entity.\n",
        "            sent = \"\"\n",
        "    return sent_list"
      ],
      "metadata": {
        "id": "sxvPjBmHNdhf"
      },
      "execution_count": 19,
      "outputs": []
    },
    {
      "cell_type": "code",
      "source": [
        "# Converting tokens to sentences and individual labels to sequences of corresponding labels.\n",
        "train_sentences = convert_to_sentences(train_sent)\n",
        "train_labels = convert_to_sentences(train_labels)\n",
        "test_sentences = convert_to_sentences(test_sent)\n",
        "test_labels = convert_to_sentences(test_labels)"
      ],
      "metadata": {
        "id": "lj1PHRp3QhG6"
      },
      "execution_count": 20,
      "outputs": []
    },
    {
      "cell_type": "code",
      "source": [
        "train_sentences[:5]"
      ],
      "metadata": {
        "colab": {
          "base_uri": "https://localhost:8080/"
        },
        "id": "RW-TC_dLQobj",
        "outputId": "fea46740-b797-45bd-8e46-9f945e3671b4"
      },
      "execution_count": 21,
      "outputs": [
        {
          "output_type": "execute_result",
          "data": {
            "text/plain": [
              "['All live births > or = 23 weeks at the University of Vermont in 1995 ( n = 2395 ) were retrospectively analyzed for delivery route , indication for cesarean , gestational age , parity , and practice group ( to reflect risk status )',\n",
              " 'The total cesarean rate was 14.4 % ( 344 of 2395 ) , and the primary rate was 11.4 % ( 244 of 2144 )',\n",
              " 'Abnormal presentation was the most common indication ( 25.6 % , 88 of 344 )',\n",
              " \"The `` corrected '' cesarean rate ( maternal-fetal medicine and transported patients excluded ) was 12.4 % ( 273 of 2194 ) , and the `` corrected '' primary rate was 9.6 % ( 190 of 1975 )\",\n",
              " \"Arrest of dilation was the most common indication in both `` corrected '' subgroups ( 23.4 and 24.6 % , respectively )\"]"
            ]
          },
          "metadata": {},
          "execution_count": 21
        }
      ]
    },
    {
      "cell_type": "code",
      "source": [
        "print(\"Number of sentences in the train dataset: {}\".format(len(train_sentences)))\n",
        "print(\"Number of sentences in the test dataset: {}\".format(len(test_sentences)))"
      ],
      "metadata": {
        "colab": {
          "base_uri": "https://localhost:8080/"
        },
        "id": "f79Ri9l1QuBu",
        "outputId": "e53b43cd-14f9-4e8a-e0ab-3f744c5cd1c6"
      },
      "execution_count": 22,
      "outputs": [
        {
          "output_type": "stream",
          "name": "stdout",
          "text": [
            "Number of sentences in the train dataset: 2599\n",
            "Number of sentences in the test dataset: 1056\n"
          ]
        }
      ]
    },
    {
      "cell_type": "code",
      "source": [
        "print(\"Number of lines of labels in the train dataset: {}\".format(len(train_labels)))\n",
        "print(\"Number of lines of labels in the test dataset: {}\".format(len(test_labels)))"
      ],
      "metadata": {
        "colab": {
          "base_uri": "https://localhost:8080/"
        },
        "id": "c5kRA6I5Q9r0",
        "outputId": "c5735a0a-7b2f-427e-aa99-fb91c024acde"
      },
      "execution_count": 23,
      "outputs": [
        {
          "output_type": "stream",
          "name": "stdout",
          "text": [
            "Number of lines of labels in the train dataset: 2599\n",
            "Number of lines of labels in the test dataset: 1056\n"
          ]
        }
      ]
    },
    {
      "cell_type": "code",
      "source": [
        "#Extract those tokens which have NOUN or PROPN as their PoS tag and find their frequency\n",
        "noun_propn = []         # Initiating list for nouns and proper nouns\n",
        "pos_tag = []            # initiating list for corresponding PoS tags.\n",
        "for sent in train_sent:\n",
        "    for token in model(sent):\n",
        "        if token.pos_ in ['NOUN', 'PROPN']:\n",
        "           noun_propn.append(token.text)\n",
        "           pos_tag.append(token.pos_)\n",
        "print(\"No. of tokens in combined dataset with PoS tag of 'NOUN' or 'PROPN': {}\".format(len(noun_propn)))"
      ],
      "metadata": {
        "colab": {
          "base_uri": "https://localhost:8080/"
        },
        "id": "V972TE65RADn",
        "outputId": "2a03bb21-1511-48a7-a99e-26d44c0ecbdc"
      },
      "execution_count": 29,
      "outputs": [
        {
          "output_type": "stream",
          "name": "stdout",
          "text": [
            "No. of tokens in combined dataset with PoS tag of 'NOUN' or 'PROPN': 17110\n"
          ]
        }
      ]
    },
    {
      "cell_type": "code",
      "source": [
        "noun_pos = pd.DataFrame({\"Noun\": noun_propn, \"POS\":pos_tag})"
      ],
      "metadata": {
        "id": "UNUyd4rKRAGj"
      },
      "execution_count": 32,
      "outputs": []
    },
    {
      "cell_type": "code",
      "source": [
        "noun_pos[\"Noun\"].value_counts().head(25)"
      ],
      "metadata": {
        "colab": {
          "base_uri": "https://localhost:8080/"
        },
        "id": "F7VXLQyaRAJW",
        "outputId": "cee91d12-b707-4541-b249-189778c32682"
      },
      "execution_count": 35,
      "outputs": [
        {
          "output_type": "execute_result",
          "data": {
            "text/plain": [
              "patients        354\n",
              "treatment       195\n",
              "cancer          135\n",
              "therapy         120\n",
              "disease         106\n",
              "cell             99\n",
              "lung             87\n",
              "chemotherapy     65\n",
              "group            63\n",
              "effects          61\n",
              "patient          59\n",
              "gene             55\n",
              "TO_SEE           55\n",
              "results          54\n",
              "surgery          51\n",
              "survival         50\n",
              "risk             49\n",
              "women            48\n",
              "activity         47\n",
              "children         47\n",
              "=                47\n",
              "analysis         47\n",
              "cases            46\n",
              "rate             46\n",
              "primary          46\n",
              "Name: Noun, dtype: int64"
            ]
          },
          "metadata": {},
          "execution_count": 35
        }
      ]
    },
    {
      "cell_type": "code",
      "source": [
        "def POS_tagger(sentences, position):\n",
        "    sentence = \" \".join(sentences)  # Convert the list of words into a string\n",
        "    words = sentence.split()  # Split the string into individual words\n",
        "    word = words[position]  # Get the word at the specified position\n",
        "    posit = 0\n",
        "    for token in model(sentence):\n",
        "        pos = token.pos_\n",
        "        if (token.text == word) and (posit == position):\n",
        "            break\n",
        "        posit += 1\n",
        "    return pos\n",
        "\n",
        "def getFeaturesForOneWord(sent_list, position):\n",
        "    sentence = \" \".join(sent_list)  # Convert the list of words into a string\n",
        "    word = sent_list[position]  # Get the word at the specified position\n",
        "    features = [\n",
        "        'word.lower=' + word.lower(),  # serves as word id\n",
        "        'word.postag=' + POS_tagger(sent_list, position),  # PoS tag of current word\n",
        "        'word[-3:]=' + word[-3:],  # last three characters\n",
        "        'word[-2:]=' + word[-2:],  # last two characters\n",
        "        'word.isupper=%s' % word.isupper(),  # is the word in all uppercase\n",
        "        'word.isdigit=%s' % word.isdigit(),  # is the word a number\n",
        "        'words.startsWithCapital=%s' % word[0].isupper()  # is the word starting with a capital letter\n",
        "    ]\n",
        "\n",
        "    if position > 0:\n",
        "        prev_word = sent_list[position - 1]\n",
        "        features.extend([\n",
        "            'prev_word.lower=' + prev_word.lower(),  # previous word\n",
        "            'prev_word.postag=' + POS_tagger(sent_list, position - 1),  # PoS tag of previous word\n",
        "            'prev_word.isupper=%s' % prev_word.isupper(),  # is the previous word in all uppercase\n",
        "            'prev_word.isdigit=%s' % prev_word.isdigit(),  # is the previous word a number\n",
        "            'prev_words.startsWithCapital=%s' % prev_word[0].isupper()  # is the previous word starting with a capital letter\n",
        "        ])\n",
        "    else:\n",
        "        features.append('BEG')  # feature to track begin of sentence\n",
        "\n",
        "    if position == len(sent_list) - 1:\n",
        "        features.append('END')  # feature to track end of sentence\n",
        "\n",
        "    return features"
      ],
      "metadata": {
        "id": "9ZlH_EGWRAP-"
      },
      "execution_count": 91,
      "outputs": []
    },
    {
      "cell_type": "code",
      "source": [
        "X = getFeaturesForOneWord(train_sentences[5], 1)\n",
        "X"
      ],
      "metadata": {
        "colab": {
          "base_uri": "https://localhost:8080/"
        },
        "id": "XsOfba5VefQl",
        "outputId": "b0eb2695-6216-457c-93ca-b064ac89778e"
      },
      "execution_count": 92,
      "outputs": [
        {
          "output_type": "execute_result",
          "data": {
            "text/plain": [
              "['word.lower=e',\n",
              " 'word.postag=PROPN',\n",
              " 'word[-3:]=e',\n",
              " 'word[-2:]=e',\n",
              " 'word.isupper=False',\n",
              " 'word.isdigit=False',\n",
              " 'words.startsWithCapital=False',\n",
              " 'prev_word.lower=c',\n",
              " 'prev_word.postag=PROPN',\n",
              " 'prev_word.isupper=True',\n",
              " 'prev_word.isdigit=False',\n",
              " 'prev_words.startsWithCapital=True']"
            ]
          },
          "metadata": {},
          "execution_count": 92
        }
      ]
    },
    {
      "cell_type": "code",
      "source": [
        "#  get features for a sentence.\n",
        "def getFeaturesForOneSentence(sentence):\n",
        "  sentence_list = sentence.split()\n",
        "  return [getFeaturesForOneWord(sentence_list, position) for position in range(len(sentence_list))]"
      ],
      "metadata": {
        "id": "8vJsZLxlYmMM"
      },
      "execution_count": 93,
      "outputs": []
    },
    {
      "cell_type": "code",
      "source": [
        " #Checking feature extraction\n",
        "example_sentence = train_sentences[5]\n",
        "print(example_sentence)\n",
        "\n",
        "features = getFeaturesForOneSentence(example_sentence)\n",
        "features[0]"
      ],
      "metadata": {
        "colab": {
          "base_uri": "https://localhost:8080/"
        },
        "id": "OibsyAnQYurv",
        "outputId": "f310f1d7-52a6-4d9c-afc2-41f283d557f0"
      },
      "execution_count": 94,
      "outputs": [
        {
          "output_type": "stream",
          "name": "stdout",
          "text": [
            "Cesarean rates at tertiary care hospitals should be compared with rates at community hospitals only after correcting for dissimilar patient groups or gestational age\n"
          ]
        },
        {
          "output_type": "execute_result",
          "data": {
            "text/plain": [
              "['word.lower=cesarean',\n",
              " 'word.postag=ADJ',\n",
              " 'word[-3:]=ean',\n",
              " 'word[-2:]=an',\n",
              " 'word.isupper=False',\n",
              " 'word.isdigit=False',\n",
              " 'words.startsWithCapital=True',\n",
              " 'BEG']"
            ]
          },
          "metadata": {},
          "execution_count": 94
        }
      ]
    },
    {
      "cell_type": "code",
      "source": [
        "features[4]"
      ],
      "metadata": {
        "colab": {
          "base_uri": "https://localhost:8080/"
        },
        "id": "CR2C33xJYuvB",
        "outputId": "17096bad-cc5f-4903-d02b-ec75570c3e71"
      },
      "execution_count": 95,
      "outputs": [
        {
          "output_type": "execute_result",
          "data": {
            "text/plain": [
              "['word.lower=care',\n",
              " 'word.postag=NOUN',\n",
              " 'word[-3:]=are',\n",
              " 'word[-2:]=re',\n",
              " 'word.isupper=False',\n",
              " 'word.isdigit=False',\n",
              " 'words.startsWithCapital=False',\n",
              " 'prev_word.lower=tertiary',\n",
              " 'prev_word.postag=ADJ',\n",
              " 'prev_word.isupper=False',\n",
              " 'prev_word.isdigit=False',\n",
              " 'prev_words.startsWithCapital=False']"
            ]
          },
          "metadata": {},
          "execution_count": 95
        }
      ]
    },
    {
      "cell_type": "code",
      "source": [
        "# Write a code to get the labels for a sentence.\n",
        "def getLabelsInListForOneSentence(labels):\n",
        "  return labels.split()"
      ],
      "metadata": {
        "id": "QBclliWUgc7r"
      },
      "execution_count": 96,
      "outputs": []
    },
    {
      "cell_type": "code",
      "source": [
        "example_labels = getLabelsInListForOneSentence(train_labels[5])\n",
        "print(example_labels)"
      ],
      "metadata": {
        "colab": {
          "base_uri": "https://localhost:8080/"
        },
        "id": "9XjHr6Vjgh4L",
        "outputId": "01c32df3-bcda-4056-bbc9-0d3ddb7e0688"
      },
      "execution_count": 97,
      "outputs": [
        {
          "output_type": "stream",
          "name": "stdout",
          "text": [
            "['O', 'O', 'O', 'O', 'O', 'O', 'O', 'O', 'O', 'O', 'O', 'O', 'O', 'O', 'O', 'O', 'O', 'O', 'O', 'O', 'O', 'O', 'O', 'O']\n"
          ]
        }
      ]
    },
    {
      "cell_type": "code",
      "source": [
        "X_train = [getFeaturesForOneSentence(sentence) for sentence in train_sentences]\n",
        "X_test = [getFeaturesForOneSentence(sentence) for sentence in test_sentences]"
      ],
      "metadata": {
        "id": "2EzNhKF3gjD1"
      },
      "execution_count": 98,
      "outputs": []
    },
    {
      "cell_type": "code",
      "source": [
        "Y_train = [getLabelsInListForOneSentence(labels) for labels in train_labels]\n",
        "Y_test = [getLabelsInListForOneSentence(labels) for labels in test_labels]"
      ],
      "metadata": {
        "id": "_pXNCBDpgjGj"
      },
      "execution_count": 99,
      "outputs": []
    },
    {
      "cell_type": "code",
      "source": [
        "# Building the CRF model. Using max_iterations as 200.\n",
        "crf = sklearn_crfsuite.CRF(max_iterations=300)\n",
        "\n",
        "try:\n",
        "    crf.fit(X_train, Y_train)\n",
        "except AttributeError:\n",
        "    pass"
      ],
      "metadata": {
        "id": "nvQZ5l-cgjJs"
      },
      "execution_count": 103,
      "outputs": []
    },
    {
      "cell_type": "code",
      "source": [
        "Y_pred = crf.predict(X_test)"
      ],
      "metadata": {
        "id": "JeAmBz4vgjM5"
      },
      "execution_count": 104,
      "outputs": []
    },
    {
      "cell_type": "code",
      "source": [
        "metrics.flat_f1_score(Y_test, Y_pred, average='weighted')"
      ],
      "metadata": {
        "colab": {
          "base_uri": "https://localhost:8080/"
        },
        "id": "wWmwUxh5g1yk",
        "outputId": "5579ff1c-96cc-4391-8c7b-43b61f6e5a8a"
      },
      "execution_count": 105,
      "outputs": [
        {
          "output_type": "execute_result",
          "data": {
            "text/plain": [
              "0.9097748874746256"
            ]
          },
          "metadata": {},
          "execution_count": 105
        }
      ]
    },
    {
      "cell_type": "code",
      "source": [],
      "metadata": {
        "id": "JwFlXfOfg1_Q"
      },
      "execution_count": null,
      "outputs": []
    }
  ]
}